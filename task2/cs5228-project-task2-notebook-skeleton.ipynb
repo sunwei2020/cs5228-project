{
 "cells": [
  {
   "cell_type": "markdown",
   "id": "492667f0",
   "metadata": {
    "pycharm": {
     "name": "#%% md\n"
    }
   },
   "source": [
    "# Task 2: Recommendation Engine - Skeleton Notebook\n",
    "\n",
    "This notebook provides a very basic example for the notebook you are expected to submit for Task 2 of the Final Project. The main purpose is that we can try different examples to get a better sense of your approach. Compared to Task 1 (Kaggle Competition), we don't have any objective means to evaluate the recommendations. \n",
    "\n",
    "Some general comments:\n",
    "* You can import any data you need. This particularly includes your cleaned version of the properties dataset (incl. the auxiliary data or any other data you might have collected); there's no need to show the data cleaning / preprocessing steps in this notebook.\n",
    "* You can also import your code in form of external Python (.py) script. You're actually encouraged to do so to keep this notebook light and uncluttered.\n",
    "* **Important:** Please consider this notebook as an example and not to set specific requirements. Your notebook is likely to look very different. As long there is a section where we can easily test your solution, it should be fine."
   ]
  },
  {
   "cell_type": "markdown",
   "id": "b4e3949b",
   "metadata": {
    "pycharm": {
     "name": "#%% md\n"
    }
   },
   "source": [
    "## Setting up the Notebook"
   ]
  },
  {
   "cell_type": "code",
   "execution_count": 5,
   "id": "0d2dc1ce",
   "metadata": {
    "pycharm": {
     "name": "#%%\n"
    }
   },
   "outputs": [],
   "source": [
    "import pandas as pd\n",
    "import numpy as np\n",
    "from data_processing import data_processing\n",
    "from sklearn.metrics.pairwise import cosine_similarity"
   ]
  },
  {
   "cell_type": "code",
   "execution_count": 6,
   "id": "2112bb6f",
   "metadata": {
    "pycharm": {
     "name": "#%%\n"
    }
   },
   "outputs": [
    {
     "name": "stdout",
     "output_type": "stream",
     "text": [
      "The autoreload extension is already loaded. To reload it, use:\n",
      "  %reload_ext autoreload\n"
     ]
    }
   ],
   "source": [
    "%load_ext autoreload\n",
    "%autoreload 2"
   ]
  },
  {
   "cell_type": "markdown",
   "id": "abb1a8b2",
   "metadata": {
    "pycharm": {
     "name": "#%% md\n"
    }
   },
   "source": [
    "## Load the Data\n",
    "\n",
    "For this example, we use a simplified version of the dataset with only 2k+ data samples, each with only a subset of features."
   ]
  },
  {
   "cell_type": "code",
   "execution_count": 7,
   "id": "dda80443",
   "metadata": {
    "pycharm": {
     "name": "#%%\n"
    }
   },
   "outputs": [
    {
     "data": {
      "text/html": [
       "<div>\n",
       "<style scoped>\n",
       "    .dataframe tbody tr th:only-of-type {\n",
       "        vertical-align: middle;\n",
       "    }\n",
       "\n",
       "    .dataframe tbody tr th {\n",
       "        vertical-align: top;\n",
       "    }\n",
       "\n",
       "    .dataframe thead th {\n",
       "        text-align: right;\n",
       "    }\n",
       "</style>\n",
       "<table border=\"1\" class=\"dataframe\">\n",
       "  <thead>\n",
       "    <tr style=\"text-align: right;\">\n",
       "      <th></th>\n",
       "      <th>listing_id</th>\n",
       "      <th>title</th>\n",
       "      <th>property_name</th>\n",
       "      <th>property_type</th>\n",
       "      <th>built_year</th>\n",
       "      <th>num_beds</th>\n",
       "      <th>num_baths</th>\n",
       "      <th>size_sqft</th>\n",
       "      <th>planning_area</th>\n",
       "      <th>price</th>\n",
       "    </tr>\n",
       "  </thead>\n",
       "  <tbody>\n",
       "    <tr>\n",
       "      <th>0</th>\n",
       "      <td>799762</td>\n",
       "      <td>hdb flat for sale in 524 ang mo kio avenue 5</td>\n",
       "      <td>hdb-ang mo kio</td>\n",
       "      <td>hdb 3 rooms</td>\n",
       "      <td>1980.0</td>\n",
       "      <td>2.0</td>\n",
       "      <td>2.0</td>\n",
       "      <td>732</td>\n",
       "      <td>ang mo kio</td>\n",
       "      <td>419000.0</td>\n",
       "    </tr>\n",
       "    <tr>\n",
       "      <th>1</th>\n",
       "      <td>896907</td>\n",
       "      <td>4 bed condo for sale in kopar at newton</td>\n",
       "      <td>kopar at newton</td>\n",
       "      <td>condo</td>\n",
       "      <td>2023.0</td>\n",
       "      <td>4.0</td>\n",
       "      <td>4.0</td>\n",
       "      <td>1528</td>\n",
       "      <td>novena</td>\n",
       "      <td>3727500.0</td>\n",
       "    </tr>\n",
       "    <tr>\n",
       "      <th>2</th>\n",
       "      <td>445021</td>\n",
       "      <td>4 bed condo for sale in nouvel 18</td>\n",
       "      <td>nouvel 18</td>\n",
       "      <td>condo</td>\n",
       "      <td>2014.0</td>\n",
       "      <td>4.0</td>\n",
       "      <td>3.0</td>\n",
       "      <td>2476</td>\n",
       "      <td>newton</td>\n",
       "      <td>8013600.0</td>\n",
       "    </tr>\n",
       "    <tr>\n",
       "      <th>3</th>\n",
       "      <td>252293</td>\n",
       "      <td>hdb flat for sale in 467 jurong west street 41</td>\n",
       "      <td>hong kah ville</td>\n",
       "      <td>hdb</td>\n",
       "      <td>1985.0</td>\n",
       "      <td>3.0</td>\n",
       "      <td>2.0</td>\n",
       "      <td>1302</td>\n",
       "      <td>jurong west</td>\n",
       "      <td>682500.0</td>\n",
       "    </tr>\n",
       "    <tr>\n",
       "      <th>4</th>\n",
       "      <td>926453</td>\n",
       "      <td>hdb flat for sale in 664b punggol drive</td>\n",
       "      <td>waterway sunbeam</td>\n",
       "      <td>Hdb 5 Rooms</td>\n",
       "      <td>2016.0</td>\n",
       "      <td>3.0</td>\n",
       "      <td>2.0</td>\n",
       "      <td>1184</td>\n",
       "      <td>punggol</td>\n",
       "      <td>764400.0</td>\n",
       "    </tr>\n",
       "  </tbody>\n",
       "</table>\n",
       "</div>"
      ],
      "text/plain": [
       "   listing_id                                           title  \\\n",
       "0      799762    hdb flat for sale in 524 ang mo kio avenue 5   \n",
       "1      896907         4 bed condo for sale in kopar at newton   \n",
       "2      445021               4 bed condo for sale in nouvel 18   \n",
       "3      252293  hdb flat for sale in 467 jurong west street 41   \n",
       "4      926453         hdb flat for sale in 664b punggol drive   \n",
       "\n",
       "      property_name property_type  built_year  num_beds  num_baths  size_sqft  \\\n",
       "0    hdb-ang mo kio   hdb 3 rooms      1980.0       2.0        2.0        732   \n",
       "1   kopar at newton         condo      2023.0       4.0        4.0       1528   \n",
       "2         nouvel 18         condo      2014.0       4.0        3.0       2476   \n",
       "3    hong kah ville           hdb      1985.0       3.0        2.0       1302   \n",
       "4  waterway sunbeam   Hdb 5 Rooms      2016.0       3.0        2.0       1184   \n",
       "\n",
       "  planning_area      price  \n",
       "0    ang mo kio   419000.0  \n",
       "1        novena  3727500.0  \n",
       "2        newton  8013600.0  \n",
       "3   jurong west   682500.0  \n",
       "4       punggol   764400.0  "
      ]
     },
     "execution_count": 7,
     "metadata": {},
     "output_type": "execute_result"
    }
   ],
   "source": [
    "df_sample = pd.read_csv('data/sg-property-prices-simplified.csv')\n",
    "df_sample.head()"
   ]
  },
  {
   "cell_type": "code",
   "execution_count": 43,
   "id": "c6ec5cf2",
   "metadata": {
    "pycharm": {
     "name": "#%%\n"
    }
   },
   "outputs": [
    {
     "data": {
      "text/html": [
       "<div>\n",
       "<style scoped>\n",
       "    .dataframe tbody tr th:only-of-type {\n",
       "        vertical-align: middle;\n",
       "    }\n",
       "\n",
       "    .dataframe tbody tr th {\n",
       "        vertical-align: top;\n",
       "    }\n",
       "\n",
       "    .dataframe thead th {\n",
       "        text-align: right;\n",
       "    }\n",
       "</style>\n",
       "<table border=\"1\" class=\"dataframe\">\n",
       "  <thead>\n",
       "    <tr style=\"text-align: right;\">\n",
       "      <th></th>\n",
       "      <th>listing_id</th>\n",
       "      <th>num_beds</th>\n",
       "      <th>num_baths</th>\n",
       "      <th>size_sqft</th>\n",
       "      <th>area_mean_price</th>\n",
       "      <th>property_type_condo</th>\n",
       "      <th>property_type_hdb</th>\n",
       "      <th>property_type_house</th>\n",
       "      <th>built_year_1995</th>\n",
       "      <th>built_year_2005</th>\n",
       "      <th>built_year_2015</th>\n",
       "      <th>built_year_2025</th>\n",
       "      <th>price_2.0</th>\n",
       "      <th>price_3.0</th>\n",
       "      <th>price_4.0</th>\n",
       "    </tr>\n",
       "  </thead>\n",
       "  <tbody>\n",
       "    <tr>\n",
       "      <th>0</th>\n",
       "      <td>799762</td>\n",
       "      <td>-0.830249</td>\n",
       "      <td>-0.385384</td>\n",
       "      <td>-0.469722</td>\n",
       "      <td>-0.343703</td>\n",
       "      <td>0</td>\n",
       "      <td>1</td>\n",
       "      <td>0</td>\n",
       "      <td>0</td>\n",
       "      <td>0</td>\n",
       "      <td>0</td>\n",
       "      <td>0</td>\n",
       "      <td>0</td>\n",
       "      <td>0</td>\n",
       "      <td>0</td>\n",
       "    </tr>\n",
       "    <tr>\n",
       "      <th>1</th>\n",
       "      <td>966261</td>\n",
       "      <td>-0.830249</td>\n",
       "      <td>-0.385384</td>\n",
       "      <td>-0.476024</td>\n",
       "      <td>-0.343703</td>\n",
       "      <td>0</td>\n",
       "      <td>1</td>\n",
       "      <td>0</td>\n",
       "      <td>0</td>\n",
       "      <td>0</td>\n",
       "      <td>0</td>\n",
       "      <td>0</td>\n",
       "      <td>0</td>\n",
       "      <td>0</td>\n",
       "      <td>0</td>\n",
       "    </tr>\n",
       "    <tr>\n",
       "      <th>2</th>\n",
       "      <td>528355</td>\n",
       "      <td>-0.013897</td>\n",
       "      <td>-0.385384</td>\n",
       "      <td>-0.347105</td>\n",
       "      <td>-0.343703</td>\n",
       "      <td>0</td>\n",
       "      <td>1</td>\n",
       "      <td>0</td>\n",
       "      <td>0</td>\n",
       "      <td>0</td>\n",
       "      <td>0</td>\n",
       "      <td>0</td>\n",
       "      <td>0</td>\n",
       "      <td>0</td>\n",
       "      <td>0</td>\n",
       "    </tr>\n",
       "    <tr>\n",
       "      <th>3</th>\n",
       "      <td>567595</td>\n",
       "      <td>-0.013897</td>\n",
       "      <td>-0.385384</td>\n",
       "      <td>-0.285224</td>\n",
       "      <td>-0.343703</td>\n",
       "      <td>0</td>\n",
       "      <td>1</td>\n",
       "      <td>0</td>\n",
       "      <td>0</td>\n",
       "      <td>0</td>\n",
       "      <td>0</td>\n",
       "      <td>0</td>\n",
       "      <td>0</td>\n",
       "      <td>0</td>\n",
       "      <td>0</td>\n",
       "    </tr>\n",
       "    <tr>\n",
       "      <th>4</th>\n",
       "      <td>703909</td>\n",
       "      <td>-0.013897</td>\n",
       "      <td>-0.385384</td>\n",
       "      <td>-0.315591</td>\n",
       "      <td>-0.343703</td>\n",
       "      <td>0</td>\n",
       "      <td>1</td>\n",
       "      <td>0</td>\n",
       "      <td>0</td>\n",
       "      <td>0</td>\n",
       "      <td>1</td>\n",
       "      <td>0</td>\n",
       "      <td>0</td>\n",
       "      <td>0</td>\n",
       "      <td>0</td>\n",
       "    </tr>\n",
       "  </tbody>\n",
       "</table>\n",
       "</div>"
      ],
      "text/plain": [
       "   listing_id  num_beds  num_baths  size_sqft  area_mean_price  \\\n",
       "0      799762 -0.830249  -0.385384  -0.469722        -0.343703   \n",
       "1      966261 -0.830249  -0.385384  -0.476024        -0.343703   \n",
       "2      528355 -0.013897  -0.385384  -0.347105        -0.343703   \n",
       "3      567595 -0.013897  -0.385384  -0.285224        -0.343703   \n",
       "4      703909 -0.013897  -0.385384  -0.315591        -0.343703   \n",
       "\n",
       "   property_type_condo  property_type_hdb  property_type_house  \\\n",
       "0                    0                  1                    0   \n",
       "1                    0                  1                    0   \n",
       "2                    0                  1                    0   \n",
       "3                    0                  1                    0   \n",
       "4                    0                  1                    0   \n",
       "\n",
       "   built_year_1995  built_year_2005  built_year_2015  built_year_2025  \\\n",
       "0                0                0                0                0   \n",
       "1                0                0                0                0   \n",
       "2                0                0                0                0   \n",
       "3                0                0                0                0   \n",
       "4                0                0                1                0   \n",
       "\n",
       "   price_2.0  price_3.0  price_4.0  \n",
       "0          0          0          0  \n",
       "1          0          0          0  \n",
       "2          0          0          0  \n",
       "3          0          0          0  \n",
       "4          0          0          0  "
      ]
     },
     "execution_count": 43,
     "metadata": {},
     "output_type": "execute_result"
    }
   ],
   "source": [
    "X = data_processing(df_sample)\n",
    "X.head()"
   ]
  },
  {
   "cell_type": "code",
   "execution_count": 44,
   "id": "bd1e2c98",
   "metadata": {
    "collapsed": false,
    "pycharm": {
     "name": "#%%\n"
    }
   },
   "outputs": [],
   "source": [
    "\n",
    "def cal_sim(x, y):\n",
    "    return np.dot(x, y) / (np.linalg.norm(x) * np.linalg.norm(y))\n",
    "def calculate_sim(car_array, item):\n",
    "    sim = np.array([cal_sim(car_array[i], item) for i in range(0,len(car_array))])\n",
    "    return sim"
   ]
  },
  {
   "cell_type": "markdown",
   "id": "3ec513a2",
   "metadata": {
    "pycharm": {
     "name": "#%% md\n"
    }
   },
   "source": [
    "## Computing the Top Recommendations\n",
    "\n",
    "The method `get_top_recommendations()` shows an example of how to get the top recommendations for a given data sample (data sample = row in the dataframe of the dataset). The input is a row from the dataset and a list of optional input parameters which will depend on your approach; `k` is the number of returned recommendations seems useful, though.\n",
    "\n",
    "The output should be a `pd.DataFrame` containing the recommendations. The output dataframe should have the same columns as the row + any additional columns you deem important (e.g., any score or tags that you might want to add to your recommendations).\n",
    "\n",
    "In principle, the method `get_top_recommendations()` may be imported from a external Python (.py) script as well."
   ]
  },
  {
   "cell_type": "code",
   "execution_count": 106,
   "id": "8c79153a",
   "metadata": {
    "pycharm": {
     "name": "#%%\n"
    }
   },
   "outputs": [],
   "source": [
    "def get_top_recommendations(row, **kwargs) -> pd.DataFrame:\n",
    "    \n",
    "    #####################################################\n",
    "    ## Initialize the required parameters\n",
    "    \n",
    "    # The number of recommendations seem recommended\n",
    "    # Additional input parameters are up to you\n",
    "    k = None\n",
    "    row_id = None\n",
    "    # Extract all **kwargs input parameters\n",
    "    # and set the used paramaters (here: k)\n",
    "    for key, value in kwargs.items():\n",
    "        if key == 'k':\n",
    "            k = value\n",
    "        if key ==\"row_id\":\n",
    "            row_id = value\n",
    "    #####################################################\n",
    "    ## Compute your recommendations\n",
    "    #\n",
    "    # This is where your magic happens. Of course, you can call methods\n",
    "    # defined in this notebook or in external Python (.py) scripts\n",
    "    #\n",
    "    X = data_processing(df_sample)\n",
    "    item = np.array(X.iloc[row_id])\n",
    "    sim = calculate_sim(np.array(X),item)\n",
    "    idx = sim.argsort()[-k-1:-1][::-1]\n",
    "    res = X.iloc[idx]['listing_id']\n",
    "    # Here, we just return the input row k times\n",
    "    # Ideally, your recommendations will be much better\n",
    "    df_result = df_sample.loc[df_sample['listing_id'].isin(res)]\n",
    "        \n",
    "    # Return the dataset with the k recommendations\n",
    "    return df_result\n"
   ]
  },
  {
   "cell_type": "markdown",
   "id": "347d7765",
   "metadata": {
    "pycharm": {
     "name": "#%% md\n"
    }
   },
   "source": [
    "## Testing the Recommendation Engine\n",
    "\n",
    "This will be the main part of your notebook to allow for testing your solutions. Most basically, for a given listing (defined by the row id in your input dataframe), we would like to see the recommendations you make. So however you set up your notebook, it should have at least a comparable section that will allow us to run your solution for different inputs.\n",
    "\n",
    "### Pick a Sample Listing as Input"
   ]
  },
  {
   "cell_type": "code",
   "execution_count": 107,
   "id": "8d6390d0",
   "metadata": {
    "pycharm": {
     "name": "#%%\n"
    }
   },
   "outputs": [
    {
     "data": {
      "text/html": [
       "<div>\n",
       "<style scoped>\n",
       "    .dataframe tbody tr th:only-of-type {\n",
       "        vertical-align: middle;\n",
       "    }\n",
       "\n",
       "    .dataframe tbody tr th {\n",
       "        vertical-align: top;\n",
       "    }\n",
       "\n",
       "    .dataframe thead th {\n",
       "        text-align: right;\n",
       "    }\n",
       "</style>\n",
       "<table border=\"1\" class=\"dataframe\">\n",
       "  <thead>\n",
       "    <tr style=\"text-align: right;\">\n",
       "      <th></th>\n",
       "      <th>listing_id</th>\n",
       "      <th>title</th>\n",
       "      <th>property_name</th>\n",
       "      <th>property_type</th>\n",
       "      <th>built_year</th>\n",
       "      <th>num_beds</th>\n",
       "      <th>num_baths</th>\n",
       "      <th>size_sqft</th>\n",
       "      <th>planning_area</th>\n",
       "      <th>price</th>\n",
       "    </tr>\n",
       "  </thead>\n",
       "  <tbody>\n",
       "    <tr>\n",
       "      <th>10</th>\n",
       "      <td>954673</td>\n",
       "      <td>5 bed house for sale in pasir ris beach park</td>\n",
       "      <td>pasir ris beach park</td>\n",
       "      <td>bungalow</td>\n",
       "      <td>1977.0</td>\n",
       "      <td>5.0</td>\n",
       "      <td>6.0</td>\n",
       "      <td>7534</td>\n",
       "      <td>pasir ris</td>\n",
       "      <td>9030000.0</td>\n",
       "    </tr>\n",
       "  </tbody>\n",
       "</table>\n",
       "</div>"
      ],
      "text/plain": [
       "    listing_id                                         title  \\\n",
       "10      954673  5 bed house for sale in pasir ris beach park   \n",
       "\n",
       "           property_name property_type  built_year  num_beds  num_baths  \\\n",
       "10  pasir ris beach park      bungalow      1977.0       5.0        6.0   \n",
       "\n",
       "    size_sqft planning_area      price  \n",
       "10       7534     pasir ris  9030000.0  "
      ]
     },
     "execution_count": 107,
     "metadata": {},
     "output_type": "execute_result"
    }
   ],
   "source": [
    "# Pick a row id of choice\n",
    "row_id = 10\n",
    "#row_id = 20\n",
    "#row_id = 30\n",
    "#row_id = 40\n",
    "#row_id = 50\n",
    "\n",
    "# Get the row from the dataframe (a valid row ids will throw an error)\n",
    "row = df_sample.iloc[row_id]\n",
    "\n",
    "# Just for printing it nicely, we create a new dataframe from this single row\n",
    "pd.DataFrame([row])"
   ]
  },
  {
   "cell_type": "markdown",
   "id": "f75dd2a4",
   "metadata": {
    "pycharm": {
     "name": "#%% md\n"
    }
   },
   "source": [
    "## Compute and Display the recommendations\n",
    "\n",
    "Since the method `get_top_recommendations()` returns a `pd.DataFrame`, it's easy to display the result."
   ]
  },
  {
   "cell_type": "code",
   "execution_count": 108,
   "id": "7b1cd34c",
   "metadata": {
    "pycharm": {
     "name": "#%%\n"
    }
   },
   "outputs": [
    {
     "data": {
      "text/html": [
       "<div>\n",
       "<style scoped>\n",
       "    .dataframe tbody tr th:only-of-type {\n",
       "        vertical-align: middle;\n",
       "    }\n",
       "\n",
       "    .dataframe tbody tr th {\n",
       "        vertical-align: top;\n",
       "    }\n",
       "\n",
       "    .dataframe thead th {\n",
       "        text-align: right;\n",
       "    }\n",
       "</style>\n",
       "<table border=\"1\" class=\"dataframe\">\n",
       "  <thead>\n",
       "    <tr style=\"text-align: right;\">\n",
       "      <th></th>\n",
       "      <th>listing_id</th>\n",
       "      <th>title</th>\n",
       "      <th>property_name</th>\n",
       "      <th>property_type</th>\n",
       "      <th>built_year</th>\n",
       "      <th>num_beds</th>\n",
       "      <th>num_baths</th>\n",
       "      <th>size_sqft</th>\n",
       "      <th>planning_area</th>\n",
       "      <th>price</th>\n",
       "    </tr>\n",
       "  </thead>\n",
       "  <tbody>\n",
       "    <tr>\n",
       "      <th>1090</th>\n",
       "      <td>563836</td>\n",
       "      <td>5 bed condo for sale in clavon</td>\n",
       "      <td>clavon</td>\n",
       "      <td>condo</td>\n",
       "      <td>2025.0</td>\n",
       "      <td>5.0</td>\n",
       "      <td>4.0</td>\n",
       "      <td>1690</td>\n",
       "      <td>clementi</td>\n",
       "      <td>3059700.0</td>\n",
       "    </tr>\n",
       "    <tr>\n",
       "      <th>1922</th>\n",
       "      <td>367466</td>\n",
       "      <td>4 bed condo for sale in lentor modern</td>\n",
       "      <td>lentor modern</td>\n",
       "      <td>condo</td>\n",
       "      <td>2026.0</td>\n",
       "      <td>4.0</td>\n",
       "      <td>3.0</td>\n",
       "      <td>1464</td>\n",
       "      <td>ang mo kio</td>\n",
       "      <td>3045000.0</td>\n",
       "    </tr>\n",
       "    <tr>\n",
       "      <th>1934</th>\n",
       "      <td>415628</td>\n",
       "      <td>5 bed condo for sale in parc clematis</td>\n",
       "      <td>parc clematis</td>\n",
       "      <td>Condo</td>\n",
       "      <td>2023.0</td>\n",
       "      <td>5.0</td>\n",
       "      <td>4.0</td>\n",
       "      <td>2605</td>\n",
       "      <td>clementi</td>\n",
       "      <td>4389000.0</td>\n",
       "    </tr>\n",
       "  </tbody>\n",
       "</table>\n",
       "</div>"
      ],
      "text/plain": [
       "      listing_id                                  title  property_name  \\\n",
       "1090      563836         5 bed condo for sale in clavon         clavon   \n",
       "1922      367466  4 bed condo for sale in lentor modern  lentor modern   \n",
       "1934      415628  5 bed condo for sale in parc clematis  parc clematis   \n",
       "\n",
       "     property_type  built_year  num_beds  num_baths  size_sqft planning_area  \\\n",
       "1090         condo      2025.0       5.0        4.0       1690      clementi   \n",
       "1922         condo      2026.0       4.0        3.0       1464    ang mo kio   \n",
       "1934         Condo      2023.0       5.0        4.0       2605      clementi   \n",
       "\n",
       "          price  \n",
       "1090  3059700.0  \n",
       "1922  3045000.0  \n",
       "1934  4389000.0  "
      ]
     },
     "execution_count": 108,
     "metadata": {},
     "output_type": "execute_result"
    }
   ],
   "source": [
    "k = 3\n",
    "\n",
    "df_recommendations = get_top_recommendations(row, k=k,row_id=row_id)\n",
    "\n",
    "df_recommendations.head(k)"
   ]
  }
 ],
 "metadata": {
  "kernelspec": {
   "display_name": "Python 3.7.1 64-bit",
   "language": "python",
   "name": "python3"
  },
  "language_info": {
   "codemirror_mode": {
    "name": "ipython",
    "version": 3
   },
   "file_extension": ".py",
   "mimetype": "text/x-python",
   "name": "python",
   "nbconvert_exporter": "python",
   "pygments_lexer": "ipython3",
   "version": "3.7.1"
  },
  "vscode": {
   "interpreter": {
    "hash": "5a98bc0709bb551cb0b40a68bfcb118c11ed773779c4b4ca5eb3852e4a8f5446"
   }
  }
 },
 "nbformat": 4,
 "nbformat_minor": 5
}
