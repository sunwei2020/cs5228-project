{
 "cells": [
  {
   "cell_type": "markdown",
   "id": "492667f0",
   "metadata": {
    "pycharm": {
     "name": "#%% md\n"
    }
   },
   "source": [
    "# Task 2: Recommendation Engine - Skeleton Notebook\n",
    "\n",
    "This notebook provides a very basic example for the notebook you are expected to submit for Task 2 of the Final Project. The main purpose is that we can try different examples to get a better sense of your approach. Compared to Task 1 (Kaggle Competition), we don't have any objective means to evaluate the recommendations. \n",
    "\n",
    "Some general comments:\n",
    "* You can import any data you need. This particularly includes your cleaned version of the properties dataset (incl. the auxiliary data or any other data you might have collected); there's no need to show the data cleaning / preprocessing steps in this notebook.\n",
    "* You can also import your code in form of external Python (.py) script. You're actually encouraged to do so to keep this notebook light and uncluttered.\n",
    "* **Important:** Please consider this notebook as an example and not to set specific requirements. Your notebook is likely to look very different. As long there is a section where we can easily test your solution, it should be fine."
   ]
  },
  {
   "cell_type": "markdown",
   "id": "b4e3949b",
   "metadata": {
    "pycharm": {
     "name": "#%% md\n"
    }
   },
   "source": [
    "## Setting up the Notebook"
   ]
  },
  {
   "cell_type": "code",
   "execution_count": null,
   "id": "0d2dc1ce",
   "metadata": {
    "pycharm": {
     "name": "#%%\n"
    }
   },
   "outputs": [],
   "source": [
    "import pandas as pd\n",
    "import numpy as np\n",
    "from data_processing import data_processing\n",
    "from sklearn.metrics.pairwise import cosine_similarity"
   ]
  },
  {
   "cell_type": "code",
   "execution_count": null,
   "id": "2112bb6f",
   "metadata": {
    "pycharm": {
     "name": "#%%\n"
    }
   },
   "outputs": [],
   "source": [
    "%load_ext autoreload\n",
    "%autoreload 2"
   ]
  },
  {
   "cell_type": "markdown",
   "id": "abb1a8b2",
   "metadata": {
    "pycharm": {
     "name": "#%% md\n"
    }
   },
   "source": [
    "## Load the Data\n",
    "\n",
    "For this example, we use a simplified version of the dataset with only 2k+ data samples, each with only a subset of features."
   ]
  },
  {
   "cell_type": "code",
   "execution_count": null,
   "id": "dda80443",
   "metadata": {
    "pycharm": {
     "name": "#%%\n"
    }
   },
   "outputs": [],
   "source": [
    "df_sample = pd.read_csv('../data/sg-property-prices-simplified.csv')\n",
    "df_sample.head()"
   ]
  },
  {
   "cell_type": "code",
   "execution_count": null,
   "id": "c6ec5cf2",
   "metadata": {
    "pycharm": {
     "name": "#%%\n"
    }
   },
   "outputs": [],
   "source": [
    "X = data_processing(df_sample)\n",
    "X.head()"
   ]
  },
  {
   "cell_type": "code",
   "execution_count": null,
   "outputs": [],
   "source": [
    "\n",
    "def cal_sim(x, y):\n",
    "    return np.dot(x, y) / (np.linalg.norm(x) * np.linalg.norm(y))\n",
    "def calculate_sim(car_array, item):\n",
    "    sim = np.array([cal_sim(car_array[i], item) for i in range(0,len(car_array))])\n",
    "    return sim"
   ],
   "metadata": {
    "collapsed": false,
    "pycharm": {
     "name": "#%%\n"
    }
   }
  },
  {
   "cell_type": "markdown",
   "id": "3ec513a2",
   "metadata": {
    "pycharm": {
     "name": "#%% md\n"
    }
   },
   "source": [
    "## Computing the Top Recommendations\n",
    "\n",
    "The method `get_top_recommendations()` shows an example of how to get the top recommendations for a given data sample (data sample = row in the dataframe of the dataset). The input is a row from the dataset and a list of optional input parameters which will depend on your approach; `k` is the number of returned recommendations seems useful, though.\n",
    "\n",
    "The output should be a `pd.DataFrame` containing the recommendations. The output dataframe should have the same columns as the row + any additional columns you deem important (e.g., any score or tags that you might want to add to your recommendations).\n",
    "\n",
    "In principle, the method `get_top_recommendations()` may be imported from a external Python (.py) script as well."
   ]
  },
  {
   "cell_type": "code",
   "execution_count": null,
   "id": "8c79153a",
   "metadata": {
    "pycharm": {
     "name": "#%%\n"
    }
   },
   "outputs": [],
   "source": [
    "def get_top_recommendations(row, **kwargs) -> pd.DataFrame:\n",
    "    \n",
    "    #####################################################\n",
    "    ## Initialize the required parameters\n",
    "    \n",
    "    # The number of recommendations seem recommended\n",
    "    # Additional input parameters are up to you\n",
    "    k = None\n",
    "    row_id = None\n",
    "    # Extract all **kwargs input parameters\n",
    "    # and set the used paramaters (here: k)\n",
    "    for key, value in kwargs.items():\n",
    "        if key == 'k':\n",
    "            k = value\n",
    "        if key ==\"row_id\":\n",
    "            row_id = value\n",
    "    #####################################################\n",
    "    ## Compute your recommendations\n",
    "    #\n",
    "    # This is where your magic happens. Of course, you can call methods\n",
    "    # defined in this notebook or in external Python (.py) scripts\n",
    "    #\n",
    "    X = data_processing(df_sample)\n",
    "    item = np.array(X.iloc[row_id])\n",
    "    sim = calculate_sim(np.array(X),item)\n",
    "    idx = sim.argsort()[-k-1:-1][::-1]\n",
    "    res = X.iloc[idx]['listing_id']\n",
    "    # Here, we just return the input row k times\n",
    "    # Ideally, your recommendations will be much better\n",
    "    df_result = df_sample.loc[df_sample['listing_id'].isin(res)]\n",
    "        \n",
    "    # Return the dataset with the k recommendations\n",
    "    return df_result\n"
   ]
  },
  {
   "cell_type": "markdown",
   "id": "347d7765",
   "metadata": {
    "pycharm": {
     "name": "#%% md\n"
    }
   },
   "source": [
    "## Testing the Recommendation Engine\n",
    "\n",
    "This will be the main part of your notebook to allow for testing your solutions. Most basically, for a given listing (defined by the row id in your input dataframe), we would like to see the recommendations you make. So however you set up your notebook, it should have at least a comparable section that will allow us to run your solution for different inputs.\n",
    "\n",
    "### Pick a Sample Listing as Input"
   ]
  },
  {
   "cell_type": "code",
   "execution_count": null,
   "id": "8d6390d0",
   "metadata": {
    "pycharm": {
     "name": "#%%\n"
    }
   },
   "outputs": [],
   "source": [
    "# Pick a row id of choice\n",
    "row_id = 10\n",
    "#row_id = 20\n",
    "#row_id = 30\n",
    "#row_id = 40\n",
    "#row_id = 50\n",
    "\n",
    "# Get the row from the dataframe (a valid row ids will throw an error)\n",
    "row = df_sample.iloc[row_id]\n",
    "\n",
    "# Just for printing it nicely, we create a new dataframe from this single row\n",
    "pd.DataFrame([row])"
   ]
  },
  {
   "cell_type": "markdown",
   "id": "f75dd2a4",
   "metadata": {
    "pycharm": {
     "name": "#%% md\n"
    }
   },
   "source": [
    "## Compute and Display the recommendations\n",
    "\n",
    "Since the method `get_top_recommendations()` returns a `pd.DataFrame`, it's easy to display the result."
   ]
  },
  {
   "cell_type": "code",
   "execution_count": null,
   "id": "7b1cd34c",
   "metadata": {
    "pycharm": {
     "name": "#%%\n"
    }
   },
   "outputs": [],
   "source": [
    "k = 3\n",
    "\n",
    "df_recommendations = get_top_recommendations(row, k=k,row_id=row_id)\n",
    "\n",
    "df_recommendations.head(k)"
   ]
  }
 ],
 "metadata": {
  "kernelspec": {
   "display_name": "Python 3.6.5 ('base')",
   "language": "python",
   "name": "python3"
  },
  "language_info": {
   "codemirror_mode": {
    "name": "ipython",
    "version": 3
   },
   "file_extension": ".py",
   "mimetype": "text/x-python",
   "name": "python",
   "nbconvert_exporter": "python",
   "pygments_lexer": "ipython3",
   "version": "3.6.5"
  },
  "vscode": {
   "interpreter": {
    "hash": "47f542eb96c6e70141898fc35cf55ba3d598c053862b0cb8a633d33c4a04b03f"
   }
  }
 },
 "nbformat": 4,
 "nbformat_minor": 5
}