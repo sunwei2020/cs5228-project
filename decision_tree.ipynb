{
 "cells": [
  {
   "cell_type": "code",
   "execution_count": 2,
   "metadata": {},
   "outputs": [],
   "source": [
    "%load_ext autoreload\n",
    "%autoreload 2"
   ]
  },
  {
   "cell_type": "code",
   "execution_count": 3,
   "metadata": {},
   "outputs": [],
   "source": [
    "import numpy as np\n",
    "import pandas as pd\n",
    "\n",
    "from sklearn.tree import DecisionTreeRegressor\n",
    "from sklearn.ensemble import RandomForestRegressor, AdaBoostRegressor\n",
    "from sklearn.model_selection import train_test_split, GridSearchCV\n",
    "\n",
    "from EDA import get_test, get_train, save_pred"
   ]
  },
  {
   "cell_type": "code",
   "execution_count": 4,
   "metadata": {},
   "outputs": [],
   "source": [
    "X_train, y_train = get_train()\n",
    "X_test = get_test()\n"
   ]
  },
  {
   "cell_type": "code",
   "execution_count": 5,
   "metadata": {},
   "outputs": [
    {
     "name": "stdout",
     "output_type": "stream",
     "text": [
      "(19168, 19)\n",
      "(6966, 19)\n",
      "(6966, 19)\n"
     ]
    }
   ],
   "source": [
    "print(X_train.shape)\n",
    "# print(X_train.head(1))\n",
    "print(X_test.shape)\n",
    "print(X_test.dropna().shape)"
   ]
  },
  {
   "cell_type": "code",
   "execution_count": 6,
   "metadata": {},
   "outputs": [],
   "source": [
    "# 训练随机森林解决回归问题\n",
    "def random_forest_result(param_grid):\n",
    "    estimator = RandomForestRegressor()\n",
    "    model = GridSearchCV(estimator, param_grid, scoring=\"neg_root_mean_squared_error\")\n",
    "    # print(estimator.get_params().keys())\n",
    "    model.fit(X_train, y_train)\n",
    "    y_pred = model.predict(X_test)\n",
    "    print('Best RandomForestRegressor regressor: {}'.format(model.best_params_))\n",
    "\n",
    "    return model.predict(X_test)"
   ]
  },
  {
   "cell_type": "code",
   "execution_count": 6,
   "metadata": {},
   "outputs": [
    {
     "name": "stdout",
     "output_type": "stream",
     "text": [
      "[1.11099384e-01 1.72903670e-01 3.07083624e-01 1.73388233e-01\n",
      " 1.15772299e-03 1.90753659e-03 1.83548085e-01 1.29332064e-02\n",
      " 2.81785173e-02 3.26130038e-03 3.08103985e-04 7.47658096e-04\n",
      " 7.82782260e-04 8.50354415e-05 5.34736754e-04 1.63897114e-04\n",
      " 5.35032265e-04 3.32465414e-04 1.04900912e-03]\n"
     ]
    }
   ],
   "source": [
    "regressor = RandomForestRegressor()\n",
    "regressor.fit(X_train, y_train)\n",
    "y_pred = regressor.predict(X_test)\n",
    "print(regressor.feature_importances_)\n",
    "out_file = \"data/result_random_forest_1.csv\"\n",
    "save_pred(y_pred, out_file)\n"
   ]
  },
  {
   "cell_type": "code",
   "execution_count": 7,
   "metadata": {},
   "outputs": [],
   "source": [
    "# 训练ada_boost解决回归问题\n",
    "def ada_boost_result(params):\n",
    "    base_estimator = DecisionTreeRegressor()\n",
    "    estimator = AdaBoostRegressor(base_estimator=base_estimator)\n",
    "    # print(estimator.get_params().keys())\n",
    "    model = GridSearchCV(estimator, params, scoring=\"neg_root_mean_squared_error\")\n",
    "    model.fit(X_train, y_train)\n",
    "    # Store the parameters of the best model\n",
    "    best_params = model.best_params_\n",
    "\n",
    "    # Predict class labels of test data on the model with the best found parameters\n",
    "    y_pred = model.predict(X_test)\n",
    "\n",
    "    print('Best AdaBoost (with DecisionTreeRegressor) regressor: {}'.format(best_params))\n",
    "    return y_pred"
   ]
  },
  {
   "cell_type": "code",
   "execution_count": 8,
   "metadata": {},
   "outputs": [
    {
     "name": "stdout",
     "output_type": "stream",
     "text": [
      "Best RandomForestRegressor regressor: {'max_depth': 50, 'max_features': 3, 'n_estimators': 40, 'n_jobs': -1}\n",
      "(6966,) [1426028.9246244  1716750.         1449072.5        ... 3267228.41666667\n",
      "  627675.89285714 3825672.45375458]\n"
     ]
    }
   ],
   "source": [
    "param_grid = {'n_estimators': [10, 20, 40, 50, 60, 80, 100, 120], 'max_depth': [10, 20, 40, 50, 60, 80, 100]}\n",
    "y_pred = random_forest_result(param_grid=param_grid)\n",
    "print(y_pred.shape, y_pred)\n",
    "out_file = \"data/result_random_forest.csv\"\n",
    "save_pred(y_pred, out_file)\n"
   ]
  },
  {
   "cell_type": "code",
   "execution_count": 10,
   "metadata": {},
   "outputs": [
    {
     "name": "stdout",
     "output_type": "stream",
     "text": [
      "dict_keys(['base_estimator__ccp_alpha', 'base_estimator__criterion', 'base_estimator__max_depth', 'base_estimator__max_features', 'base_estimator__max_leaf_nodes', 'base_estimator__min_impurity_decrease', 'base_estimator__min_impurity_split', 'base_estimator__min_samples_leaf', 'base_estimator__min_samples_split', 'base_estimator__min_weight_fraction_leaf', 'base_estimator__random_state', 'base_estimator__splitter', 'base_estimator', 'learning_rate', 'loss', 'n_estimators', 'random_state'])\n",
      "Best AdaBoost (with DecisionTreeRegressor) regressor: {'base_estimator__max_depth': 10, 'learning_rate': 1, 'n_estimators': 20}\n",
      "(6966,) [1591760.         1660307.31707317 1571892.68292683 ... 3259136.58536585\n",
      "  608680.         3474980.37383178]\n"
     ]
    }
   ],
   "source": [
    "params = {'base_estimator__max_depth':[5, 10, 20, 50, 100], \"n_estimators\": [5, 10, 20, 50, 100], \"learning_rate\": [0.01, 0.1, 0.5, 1]}\n",
    "y_pred_ada = ada_boost_result(params)\n",
    "print(y_pred_ada.shape, y_pred_ada)\n",
    "out_file = \"data/result_ada_boost.csv\"\n",
    "save_pred(y_pred_ada, out_file)"
   ]
  },
  {
   "cell_type": "code",
   "execution_count": null,
   "metadata": {},
   "outputs": [],
   "source": []
  }
 ],
 "metadata": {
  "kernelspec": {
   "display_name": "Python 3.6.5 ('base')",
   "language": "python",
   "name": "python3"
  },
  "language_info": {
   "codemirror_mode": {
    "name": "ipython",
    "version": 3
   },
   "file_extension": ".py",
   "mimetype": "text/x-python",
   "name": "python",
   "nbconvert_exporter": "python",
   "pygments_lexer": "ipython3",
   "version": "3.6.5"
  },
  "orig_nbformat": 4,
  "vscode": {
   "interpreter": {
    "hash": "47f542eb96c6e70141898fc35cf55ba3d598c053862b0cb8a633d33c4a04b03f"
   }
  }
 },
 "nbformat": 4,
 "nbformat_minor": 2
}
