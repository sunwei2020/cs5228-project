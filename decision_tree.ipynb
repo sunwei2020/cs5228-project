{
 "cells": [
  {
   "cell_type": "code",
   "execution_count": 1,
   "metadata": {},
   "outputs": [],
   "source": [
    "%load_ext autoreload\n",
    "%autoreload 2"
   ]
  },
  {
   "cell_type": "code",
   "execution_count": 2,
   "metadata": {},
   "outputs": [],
   "source": [
    "import numpy as np\n",
    "import pandas as pd\n",
    "\n",
    "from sklearn.tree import DecisionTreeRegressor\n",
    "from sklearn.ensemble import RandomForestRegressor, AdaBoostRegressor\n",
    "from sklearn.model_selection import train_test_split, GridSearchCV\n",
    "\n",
    "from EDA import get_test, get_train, save_pred"
   ]
  },
  {
   "cell_type": "code",
   "execution_count": 3,
   "metadata": {},
   "outputs": [],
   "source": [
    "X_train, y_train = get_train()\n",
    "X_test = get_test()\n"
   ]
  },
  {
   "cell_type": "code",
   "execution_count": 4,
   "metadata": {},
   "outputs": [
    {
     "name": "stdout",
     "output_type": "stream",
     "text": [
      "(19168, 19)\n",
      "(6966, 19)\n",
      "(6966, 19)\n"
     ]
    }
   ],
   "source": [
    "print(X_train.shape)\n",
    "# print(X_train.head(1))\n",
    "print(X_test.shape)\n",
    "print(X_test.dropna().shape)"
   ]
  },
  {
   "cell_type": "code",
   "execution_count": 5,
   "metadata": {},
   "outputs": [],
   "source": [
    "# 训练随机森林解决回归问题\n",
    "def random_forest_result(param_grid):\n",
    "    estimator = RandomForestRegressor()\n",
    "    model = GridSearchCV(estimator, param_grid, scoring=\"neg_root_mean_squared_error\")\n",
    "    # print(estimator.get_params().keys())\n",
    "    model.fit(X_train, y_train)\n",
    "    y_pred = model.predict(X_test)\n",
    "    print('Best RandomForestRegressor regressor: {}'.format(model.best_params_))\n",
    "\n",
    "    return model.predict(X_test)"
   ]
  },
  {
   "cell_type": "code",
   "execution_count": 10,
   "metadata": {},
   "outputs": [],
   "source": [
    "# \n",
    "def ada_boost_result(params):\n",
    "    base_estimator = DecisionTreeRegressor()\n",
    "    estimator = AdaBoostRegressor(base_estimator=base_estimator)\n",
    "    # print(estimator.get_params().keys())\n",
    "    model = GridSearchCV(estimator, params, scoring=\"neg_root_mean_squared_error\")\n",
    "    model.fit(X_train, y_train)\n",
    "    # Store the parameters of the best model\n",
    "    best_params = model.best_params_\n",
    "\n",
    "    # Predict class labels of test data on the model with the best found parameters\n",
    "    y_pred = model.predict(X_test)\n",
    "\n",
    "    print('Best AdaBoost (with DecisionTreeRegressor) regressor: {}'.format(best_params))\n",
    "    return y_pred"
   ]
  },
  {
   "cell_type": "code",
   "execution_count": 8,
   "metadata": {},
   "outputs": [
    {
     "name": "stdout",
     "output_type": "stream",
     "text": [
      "Best RandomForestRegressor regressor: {'max_features': 'log2', 'min_samples_leaf': 100, 'n_estimators': 20, 'n_jobs': -1}\n",
      "(6966,) [1508805.30925693 1687553.24611076 4618456.52102155 ... 3243091.43905007\n",
      "  652638.78175065 3264251.7328681 ]\n"
     ]
    }
   ],
   "source": [
    "param_grid = {'n_estimators': [10, 20, 50, 100, 200], 'max_features': [\"sqrt\", \"log2\", \"auto\"], 'min_samples_leaf': [5, 10, 20, 50], 'n_jobs': [-1]}\n",
    "y_pred = random_forest_result(param_grid=param_grid)\n",
    "print(y_pred.shape, y_pred)\n",
    "out_file = \"data/result_random_forest.csv\"\n",
    "save_pred(y_pred, out_file)\n"
   ]
  },
  {
   "cell_type": "code",
   "execution_count": 12,
   "metadata": {},
   "outputs": [
    {
     "name": "stdout",
     "output_type": "stream",
     "text": [
      "Best AdaBoost (with DecisionTreeRegressor) regressor: {'base_estimator__max_depth': 10, 'learning_rate': 0.01, 'n_estimators': 50}\n",
      "(6966,) [1212456.64739884 1667201.11111111 1593469.13580247 ... 3272106.18556701\n",
      "  787500.         3646661.86440678]\n"
     ]
    }
   ],
   "source": [
    "params = {'base_estimator__max_depth':[10, 20, 50, 100, 200], \"n_estimators\": [5, 10, 20, 50, 100], \"learning_rate\": [0.01, 0.1, 0.5, 1]}\n",
    "y_pred_ada = ada_boost_result(params)\n",
    "print(y_pred_ada.shape, y_pred_ada)\n",
    "out_file = \"data/result_ada_boost.csv\"\n",
    "save_pred(y_pred_ada, out_file)"
   ]
  },
  {
   "cell_type": "code",
   "execution_count": null,
   "metadata": {},
   "outputs": [],
   "source": []
  }
 ],
 "metadata": {
  "kernelspec": {
   "display_name": "Python 3.6.5 ('base')",
   "language": "python",
   "name": "python3"
  },
  "language_info": {
   "codemirror_mode": {
    "name": "ipython",
    "version": 3
   },
   "file_extension": ".py",
   "mimetype": "text/x-python",
   "name": "python",
   "nbconvert_exporter": "python",
   "pygments_lexer": "ipython3",
   "version": "3.6.5"
  },
  "orig_nbformat": 4,
  "vscode": {
   "interpreter": {
    "hash": "47f542eb96c6e70141898fc35cf55ba3d598c053862b0cb8a633d33c4a04b03f"
   }
  }
 },
 "nbformat": 4,
 "nbformat_minor": 2
}
