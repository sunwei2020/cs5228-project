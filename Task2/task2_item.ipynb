{
 "cells": [
  {
   "cell_type": "markdown",
   "id": "492667f0",
   "metadata": {
    "pycharm": {
     "name": "#%% md\n"
    }
   },
   "source": [
    "# Task 2: Recommendation Engine - item_based\n",
    "\n",
    "In this notebook, we implement item-based recommendation by computing the similarity of different data entries. Based on any data entry, we can recommend the data entries that are most similar to it.\n"
   ]
  },
  {
   "cell_type": "markdown",
   "id": "b4e3949b",
   "metadata": {
    "pycharm": {
     "name": "#%% md\n"
    }
   },
   "source": [
    "## Setting up the Notebook"
   ]
  },
  {
   "cell_type": "code",
   "execution_count": 195,
   "id": "0d2dc1ce",
   "metadata": {
    "pycharm": {
     "name": "#%%\n"
    }
   },
   "outputs": [],
   "source": [
    "import pandas as pd\n",
    "import numpy as np\n",
    "from data_processing import data_processing\n",
    "from sklearn.metrics.pairwise import cosine_similarity"
   ]
  },
  {
   "cell_type": "code",
   "execution_count": 196,
   "id": "2112bb6f",
   "metadata": {
    "pycharm": {
     "name": "#%%\n"
    }
   },
   "outputs": [
    {
     "name": "stdout",
     "output_type": "stream",
     "text": [
      "The autoreload extension is already loaded. To reload it, use:\n",
      "  %reload_ext autoreload\n"
     ]
    }
   ],
   "source": [
    "%load_ext autoreload\n",
    "%autoreload 2"
   ]
  },
  {
   "cell_type": "markdown",
   "id": "abb1a8b2",
   "metadata": {
    "pycharm": {
     "name": "#%% md\n"
    }
   },
   "source": [
    "## Load the Data\n",
    "\n",
    "For this example, we use a simplified version of the dataset with only 2k+ data samples, each with only a subset of features."
   ]
  },
  {
   "cell_type": "code",
   "execution_count": 197,
   "id": "dda80443",
   "metadata": {
    "pycharm": {
     "name": "#%%\n"
    }
   },
   "outputs": [
    {
     "data": {
      "text/plain": "   listing_id                                           title  \\\n0      799762    hdb flat for sale in 524 ang mo kio avenue 5   \n1      896907         4 bed condo for sale in kopar at newton   \n2      445021               4 bed condo for sale in nouvel 18   \n3      252293  hdb flat for sale in 467 jurong west street 41   \n4      926453         hdb flat for sale in 664b punggol drive   \n\n      property_name property_type  built_year  num_beds  num_baths  size_sqft  \\\n0    hdb-ang mo kio   hdb 3 rooms      1980.0       2.0        2.0        732   \n1   kopar at newton         condo      2023.0       4.0        4.0       1528   \n2         nouvel 18         condo      2014.0       4.0        3.0       2476   \n3    hong kah ville           hdb      1985.0       3.0        2.0       1302   \n4  waterway sunbeam   Hdb 5 Rooms      2016.0       3.0        2.0       1184   \n\n  planning_area      price  \n0    ang mo kio   419000.0  \n1        novena  3727500.0  \n2        newton  8013600.0  \n3   jurong west   682500.0  \n4       punggol   764400.0  ",
      "text/html": "<div>\n<style scoped>\n    .dataframe tbody tr th:only-of-type {\n        vertical-align: middle;\n    }\n\n    .dataframe tbody tr th {\n        vertical-align: top;\n    }\n\n    .dataframe thead th {\n        text-align: right;\n    }\n</style>\n<table border=\"1\" class=\"dataframe\">\n  <thead>\n    <tr style=\"text-align: right;\">\n      <th></th>\n      <th>listing_id</th>\n      <th>title</th>\n      <th>property_name</th>\n      <th>property_type</th>\n      <th>built_year</th>\n      <th>num_beds</th>\n      <th>num_baths</th>\n      <th>size_sqft</th>\n      <th>planning_area</th>\n      <th>price</th>\n    </tr>\n  </thead>\n  <tbody>\n    <tr>\n      <th>0</th>\n      <td>799762</td>\n      <td>hdb flat for sale in 524 ang mo kio avenue 5</td>\n      <td>hdb-ang mo kio</td>\n      <td>hdb 3 rooms</td>\n      <td>1980.0</td>\n      <td>2.0</td>\n      <td>2.0</td>\n      <td>732</td>\n      <td>ang mo kio</td>\n      <td>419000.0</td>\n    </tr>\n    <tr>\n      <th>1</th>\n      <td>896907</td>\n      <td>4 bed condo for sale in kopar at newton</td>\n      <td>kopar at newton</td>\n      <td>condo</td>\n      <td>2023.0</td>\n      <td>4.0</td>\n      <td>4.0</td>\n      <td>1528</td>\n      <td>novena</td>\n      <td>3727500.0</td>\n    </tr>\n    <tr>\n      <th>2</th>\n      <td>445021</td>\n      <td>4 bed condo for sale in nouvel 18</td>\n      <td>nouvel 18</td>\n      <td>condo</td>\n      <td>2014.0</td>\n      <td>4.0</td>\n      <td>3.0</td>\n      <td>2476</td>\n      <td>newton</td>\n      <td>8013600.0</td>\n    </tr>\n    <tr>\n      <th>3</th>\n      <td>252293</td>\n      <td>hdb flat for sale in 467 jurong west street 41</td>\n      <td>hong kah ville</td>\n      <td>hdb</td>\n      <td>1985.0</td>\n      <td>3.0</td>\n      <td>2.0</td>\n      <td>1302</td>\n      <td>jurong west</td>\n      <td>682500.0</td>\n    </tr>\n    <tr>\n      <th>4</th>\n      <td>926453</td>\n      <td>hdb flat for sale in 664b punggol drive</td>\n      <td>waterway sunbeam</td>\n      <td>Hdb 5 Rooms</td>\n      <td>2016.0</td>\n      <td>3.0</td>\n      <td>2.0</td>\n      <td>1184</td>\n      <td>punggol</td>\n      <td>764400.0</td>\n    </tr>\n  </tbody>\n</table>\n</div>"
     },
     "execution_count": 197,
     "metadata": {},
     "output_type": "execute_result"
    }
   ],
   "source": [
    "df_sample = pd.read_csv('../data/sg-property-prices-simplified.csv')\n",
    "df_sample.head()"
   ]
  },
  {
   "cell_type": "markdown",
   "source": [
    "## After data processing\n",
    "Similar to task1 data processing, only useful data columns are retained, one-hot processing is performed on category data, and numerical data is normalized. Besides, we delete data entries with NaN instead of filling to keep the recommendation real."
   ],
   "metadata": {
    "collapsed": false,
    "pycharm": {
     "name": "#%% md\n"
    }
   }
  },
  {
   "cell_type": "code",
   "execution_count": 198,
   "id": "c6ec5cf2",
   "metadata": {
    "pycharm": {
     "name": "#%%\n"
    }
   },
   "outputs": [
    {
     "data": {
      "text/plain": "   listing_id  num_beds  num_baths  size_sqft  area_mean_price  \\\n0      799762 -0.830249  -0.385384  -0.469722        -0.343703   \n1      966261 -0.830249  -0.385384  -0.476024        -0.343703   \n2      528355 -0.013897  -0.385384  -0.347105        -0.343703   \n3      567595 -0.013897  -0.385384  -0.285224        -0.343703   \n4      703909 -0.013897  -0.385384  -0.315591        -0.343703   \n\n   property_type_condo  property_type_hdb  property_type_house  \\\n0                    0                  1                    0   \n1                    0                  1                    0   \n2                    0                  1                    0   \n3                    0                  1                    0   \n4                    0                  1                    0   \n\n   built_year_1995  built_year_2005  built_year_2015  built_year_2025  \\\n0                0                0                0                0   \n1                0                0                0                0   \n2                0                0                0                0   \n3                0                0                0                0   \n4                0                0                1                0   \n\n   price_2.0  price_3.0  price_4.0  \n0          0          0          0  \n1          0          0          0  \n2          0          0          0  \n3          0          0          0  \n4          0          0          0  ",
      "text/html": "<div>\n<style scoped>\n    .dataframe tbody tr th:only-of-type {\n        vertical-align: middle;\n    }\n\n    .dataframe tbody tr th {\n        vertical-align: top;\n    }\n\n    .dataframe thead th {\n        text-align: right;\n    }\n</style>\n<table border=\"1\" class=\"dataframe\">\n  <thead>\n    <tr style=\"text-align: right;\">\n      <th></th>\n      <th>listing_id</th>\n      <th>num_beds</th>\n      <th>num_baths</th>\n      <th>size_sqft</th>\n      <th>area_mean_price</th>\n      <th>property_type_condo</th>\n      <th>property_type_hdb</th>\n      <th>property_type_house</th>\n      <th>built_year_1995</th>\n      <th>built_year_2005</th>\n      <th>built_year_2015</th>\n      <th>built_year_2025</th>\n      <th>price_2.0</th>\n      <th>price_3.0</th>\n      <th>price_4.0</th>\n    </tr>\n  </thead>\n  <tbody>\n    <tr>\n      <th>0</th>\n      <td>799762</td>\n      <td>-0.830249</td>\n      <td>-0.385384</td>\n      <td>-0.469722</td>\n      <td>-0.343703</td>\n      <td>0</td>\n      <td>1</td>\n      <td>0</td>\n      <td>0</td>\n      <td>0</td>\n      <td>0</td>\n      <td>0</td>\n      <td>0</td>\n      <td>0</td>\n      <td>0</td>\n    </tr>\n    <tr>\n      <th>1</th>\n      <td>966261</td>\n      <td>-0.830249</td>\n      <td>-0.385384</td>\n      <td>-0.476024</td>\n      <td>-0.343703</td>\n      <td>0</td>\n      <td>1</td>\n      <td>0</td>\n      <td>0</td>\n      <td>0</td>\n      <td>0</td>\n      <td>0</td>\n      <td>0</td>\n      <td>0</td>\n      <td>0</td>\n    </tr>\n    <tr>\n      <th>2</th>\n      <td>528355</td>\n      <td>-0.013897</td>\n      <td>-0.385384</td>\n      <td>-0.347105</td>\n      <td>-0.343703</td>\n      <td>0</td>\n      <td>1</td>\n      <td>0</td>\n      <td>0</td>\n      <td>0</td>\n      <td>0</td>\n      <td>0</td>\n      <td>0</td>\n      <td>0</td>\n      <td>0</td>\n    </tr>\n    <tr>\n      <th>3</th>\n      <td>567595</td>\n      <td>-0.013897</td>\n      <td>-0.385384</td>\n      <td>-0.285224</td>\n      <td>-0.343703</td>\n      <td>0</td>\n      <td>1</td>\n      <td>0</td>\n      <td>0</td>\n      <td>0</td>\n      <td>0</td>\n      <td>0</td>\n      <td>0</td>\n      <td>0</td>\n      <td>0</td>\n    </tr>\n    <tr>\n      <th>4</th>\n      <td>703909</td>\n      <td>-0.013897</td>\n      <td>-0.385384</td>\n      <td>-0.315591</td>\n      <td>-0.343703</td>\n      <td>0</td>\n      <td>1</td>\n      <td>0</td>\n      <td>0</td>\n      <td>0</td>\n      <td>1</td>\n      <td>0</td>\n      <td>0</td>\n      <td>0</td>\n      <td>0</td>\n    </tr>\n  </tbody>\n</table>\n</div>"
     },
     "execution_count": 198,
     "metadata": {},
     "output_type": "execute_result"
    }
   ],
   "source": [
    "X = data_processing(df_sample)\n",
    "X.head()"
   ]
  },
  {
   "cell_type": "markdown",
   "id": "3ec513a2",
   "metadata": {
    "pycharm": {
     "name": "#%% md\n"
    }
   },
   "source": [
    "## Computing the Top Recommendations\n",
    "\n",
    "The method `get_top_recommendations()` shows an example of how to get the top recommendations for a given data sample (data sample = row in the dataframe of the dataset). The input is a row from the dataset and a list of optional input parameters which will depend on your approach; `k` is the number of returned recommendations seems useful, though.\n",
    "\n",
    "The output should be a `pd.DataFrame` containing the recommendations. The output dataframe should have the same columns as the row + any additional columns you deem important (e.g., any score or tags that you might want to add to your recommendations).\n",
    "\n",
    "In principle, the method `get_top_recommendations()` may be imported from a external Python (.py) script as well."
   ]
  },
  {
   "cell_type": "code",
   "execution_count": 199,
   "id": "8c79153a",
   "metadata": {
    "pycharm": {
     "name": "#%%\n"
    }
   },
   "outputs": [],
   "source": [
    "#Define a function that computes similarity\n",
    "def cal_sim(x, y):\n",
    "    return np.dot(x, y) / (np.linalg.norm(x) * np.linalg.norm(y))\n",
    "def calculate_sim(property_array, item):\n",
    "    sim = np.array([cal_sim(property_array[i], item) for i in range(0,len(property_array))])\n",
    "    return sim\n",
    "\n",
    "def get_top_recommendations(row, **kwargs) -> pd.DataFrame:\n",
    "    \n",
    "    #####################################################\n",
    "    ## Initialize the required parameters\n",
    "    \n",
    "    # The number of recommendations seem recommended\n",
    "    # Additional input parameters are up to you\n",
    "    k = None\n",
    "    row_id = None\n",
    "    # Extract all **kwargs input parameters\n",
    "    # and set the used paramaters (here: k)\n",
    "    for key, value in kwargs.items():\n",
    "        if key == 'k':\n",
    "            k = value\n",
    "        if key ==\"row_id\":\n",
    "            row_id = value\n",
    "    #####################################################\n",
    "    ## Compute your recommendations\n",
    "    #\n",
    "    # This is where your magic happens. Of course, you can call methods\n",
    "    # defined in this notebook or in external Python (.py) scripts\n",
    "    #\n",
    "    item_id = df_sample.iloc[row_id]['listing_id']\n",
    "    row_id=X[(X['listing_id']==item_id)].index[0]\n",
    "    X_cal=X.drop('listing_id',axis=1) # remove listing_id before calculation\n",
    "    item = np.array(X_cal.iloc[row_id]) #get the base item\n",
    "\n",
    "    sim = calculate_sim(np.array(X_cal),item)\n",
    "    idx = sim.argsort()[-k-2:-2][::-1]\n",
    "    res = X.iloc[idx]['listing_id']\n",
    "    # Here, we just return the input row k times\n",
    "    # Ideally, your recommendations will be much better\n",
    "    df_result = df_sample.loc[df_sample['listing_id'].isin(res)]\n",
    "        \n",
    "    # Return the dataset with the k recommendations\n",
    "    return df_result\n"
   ]
  },
  {
   "cell_type": "markdown",
   "id": "347d7765",
   "metadata": {
    "pycharm": {
     "name": "#%% md\n"
    }
   },
   "source": [
    "## Testing the Recommendation Engine\n",
    "\n",
    "This will be the main part of your notebook to allow for testing your solutions. Most basically, for a given listing (defined by the row id in your input dataframe), we would like to see the recommendations you make. So however you set up your notebook, it should have at least a comparable section that will allow us to run your solution for different inputs.\n",
    "\n",
    "### Pick a Sample Listing as Input"
   ]
  },
  {
   "cell_type": "code",
   "execution_count": 200,
   "id": "8d6390d0",
   "metadata": {
    "pycharm": {
     "name": "#%%\n"
    }
   },
   "outputs": [
    {
     "data": {
      "text/plain": "    listing_id                                          title  \\\n30      800627  hdb flat for sale in 86 telok blangah heights   \n\n      property_name property_type  built_year  num_beds  num_baths  size_sqft  \\\n30  hdb-bukit merah   hdb 5 rooms      2003.0       3.0        2.0       1184   \n\n   planning_area     price  \n30   bukit merah  890400.0  ",
      "text/html": "<div>\n<style scoped>\n    .dataframe tbody tr th:only-of-type {\n        vertical-align: middle;\n    }\n\n    .dataframe tbody tr th {\n        vertical-align: top;\n    }\n\n    .dataframe thead th {\n        text-align: right;\n    }\n</style>\n<table border=\"1\" class=\"dataframe\">\n  <thead>\n    <tr style=\"text-align: right;\">\n      <th></th>\n      <th>listing_id</th>\n      <th>title</th>\n      <th>property_name</th>\n      <th>property_type</th>\n      <th>built_year</th>\n      <th>num_beds</th>\n      <th>num_baths</th>\n      <th>size_sqft</th>\n      <th>planning_area</th>\n      <th>price</th>\n    </tr>\n  </thead>\n  <tbody>\n    <tr>\n      <th>30</th>\n      <td>800627</td>\n      <td>hdb flat for sale in 86 telok blangah heights</td>\n      <td>hdb-bukit merah</td>\n      <td>hdb 5 rooms</td>\n      <td>2003.0</td>\n      <td>3.0</td>\n      <td>2.0</td>\n      <td>1184</td>\n      <td>bukit merah</td>\n      <td>890400.0</td>\n    </tr>\n  </tbody>\n</table>\n</div>"
     },
     "execution_count": 200,
     "metadata": {},
     "output_type": "execute_result"
    }
   ],
   "source": [
    "# Pick a row id of choice\n",
    "# row_id = 10\n",
    "# row_id = 20\n",
    "row_id = 30\n",
    "# row_id = 40\n",
    "\n",
    "# Get the row from the dataframe (a valid row ids will throw an error)\n",
    "row = df_sample.iloc[row_id]\n",
    "\n",
    "# Just for printing it nicely, we create a new dataframe from this single row\n",
    "pd.DataFrame([row])"
   ]
  },
  {
   "cell_type": "markdown",
   "id": "f75dd2a4",
   "metadata": {
    "pycharm": {
     "name": "#%% md\n"
    }
   },
   "source": [
    "## Compute and Display the recommendations\n",
    "\n",
    "Since the method `get_top_recommendations()` returns a `pd.DataFrame`, it's easy to display the result."
   ]
  },
  {
   "cell_type": "code",
   "execution_count": 201,
   "outputs": [
    {
     "data": {
      "text/plain": "      listing_id                                           title  \\\n725       709820           hdb flat for sale in 73a redhill road   \n906       862524       hdb flat for sale in 185 bedok north road   \n1567      595261           hdb flat for sale in 77a redhill road   \n1695      380465           hdb flat for sale in 74a redhill road   \n1960      154525  hdb flat for sale in 596b ang mo kio street 52   \n\n              property_name property_type  built_year  num_beds  num_baths  \\\n725        73a redhill road           hdb      2005.0       3.0        2.0   \n906                 vista 8           hdb      2005.0       3.0        2.0   \n1567       77a redhill road           hdb      2005.0       3.0        2.0   \n1695       74a redhill road           hdb      2005.0       3.0        2.0   \n1960  city view @ cheng san   hdb 5 rooms      2002.0       3.0        2.0   \n\n      size_sqft planning_area     price  \n725        1076   bukit merah  942900.0  \n906         990         bedok  661500.0  \n1567       1076   bukit merah  834800.0  \n1695       1237   bukit merah  942900.0  \n1960       1184    ang mo kio  840000.0  ",
      "text/html": "<div>\n<style scoped>\n    .dataframe tbody tr th:only-of-type {\n        vertical-align: middle;\n    }\n\n    .dataframe tbody tr th {\n        vertical-align: top;\n    }\n\n    .dataframe thead th {\n        text-align: right;\n    }\n</style>\n<table border=\"1\" class=\"dataframe\">\n  <thead>\n    <tr style=\"text-align: right;\">\n      <th></th>\n      <th>listing_id</th>\n      <th>title</th>\n      <th>property_name</th>\n      <th>property_type</th>\n      <th>built_year</th>\n      <th>num_beds</th>\n      <th>num_baths</th>\n      <th>size_sqft</th>\n      <th>planning_area</th>\n      <th>price</th>\n    </tr>\n  </thead>\n  <tbody>\n    <tr>\n      <th>725</th>\n      <td>709820</td>\n      <td>hdb flat for sale in 73a redhill road</td>\n      <td>73a redhill road</td>\n      <td>hdb</td>\n      <td>2005.0</td>\n      <td>3.0</td>\n      <td>2.0</td>\n      <td>1076</td>\n      <td>bukit merah</td>\n      <td>942900.0</td>\n    </tr>\n    <tr>\n      <th>906</th>\n      <td>862524</td>\n      <td>hdb flat for sale in 185 bedok north road</td>\n      <td>vista 8</td>\n      <td>hdb</td>\n      <td>2005.0</td>\n      <td>3.0</td>\n      <td>2.0</td>\n      <td>990</td>\n      <td>bedok</td>\n      <td>661500.0</td>\n    </tr>\n    <tr>\n      <th>1567</th>\n      <td>595261</td>\n      <td>hdb flat for sale in 77a redhill road</td>\n      <td>77a redhill road</td>\n      <td>hdb</td>\n      <td>2005.0</td>\n      <td>3.0</td>\n      <td>2.0</td>\n      <td>1076</td>\n      <td>bukit merah</td>\n      <td>834800.0</td>\n    </tr>\n    <tr>\n      <th>1695</th>\n      <td>380465</td>\n      <td>hdb flat for sale in 74a redhill road</td>\n      <td>74a redhill road</td>\n      <td>hdb</td>\n      <td>2005.0</td>\n      <td>3.0</td>\n      <td>2.0</td>\n      <td>1237</td>\n      <td>bukit merah</td>\n      <td>942900.0</td>\n    </tr>\n    <tr>\n      <th>1960</th>\n      <td>154525</td>\n      <td>hdb flat for sale in 596b ang mo kio street 52</td>\n      <td>city view @ cheng san</td>\n      <td>hdb 5 rooms</td>\n      <td>2002.0</td>\n      <td>3.0</td>\n      <td>2.0</td>\n      <td>1184</td>\n      <td>ang mo kio</td>\n      <td>840000.0</td>\n    </tr>\n  </tbody>\n</table>\n</div>"
     },
     "execution_count": 201,
     "metadata": {},
     "output_type": "execute_result"
    }
   ],
   "source": [
    "k = 5\n",
    "df_recommendations = get_top_recommendations(row, k=k,row_id=row_id)\n",
    "df_recommendations.head(k)"
   ],
   "metadata": {
    "collapsed": false,
    "pycharm": {
     "name": "#%%\n"
    }
   }
  },
  {
   "cell_type": "code",
   "execution_count": null,
   "outputs": [],
   "source": [],
   "metadata": {
    "collapsed": false,
    "pycharm": {
     "name": "#%%\n"
    }
   }
  }
 ],
 "metadata": {
  "kernelspec": {
   "display_name": "Python 3.6.5 ('base')",
   "language": "python",
   "name": "python3"
  },
  "language_info": {
   "codemirror_mode": {
    "name": "ipython",
    "version": 3
   },
   "file_extension": ".py",
   "mimetype": "text/x-python",
   "name": "python",
   "nbconvert_exporter": "python",
   "pygments_lexer": "ipython3",
   "version": "3.6.5"
  },
  "vscode": {
   "interpreter": {
    "hash": "47f542eb96c6e70141898fc35cf55ba3d598c053862b0cb8a633d33c4a04b03f"
   }
  }
 },
 "nbformat": 4,
 "nbformat_minor": 5
}