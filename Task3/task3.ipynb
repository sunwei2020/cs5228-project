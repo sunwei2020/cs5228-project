{
 "cells": [
  {
   "cell_type": "markdown",
   "source": [
    "## Task 3---Forecast of the Number of Properties  for Sale\n",
    "In this task, considering that the number of properties is business behavior data that exhibits a certain period of change and the trend has a natural limit or saturation state, we can choose Facebook's time series prediction model Prophet for prediction."
   ],
   "metadata": {
    "collapsed": false,
    "pycharm": {
     "name": "#%% md\n"
    }
   }
  },
  {
   "cell_type": "code",
   "execution_count": 16,
   "outputs": [],
   "source": [
    "import pandas as pd\n",
    "import numpy as np\n",
    "from prophet import Prophet\n",
    "import matplotlib.pyplot as plt"
   ],
   "metadata": {
    "collapsed": false,
    "pycharm": {
     "name": "#%%\n"
    }
   }
  },
  {
   "cell_type": "markdown",
   "source": [
    "## Load data"
   ],
   "metadata": {
    "collapsed": false,
    "pycharm": {
     "name": "#%% md\n"
    }
   }
  },
  {
   "cell_type": "code",
   "execution_count": 17,
   "outputs": [],
   "source": [
    "df = pd.read_csv(\"../data/train.csv\")\n",
    "df = df.loc[df['built_year'].notnull()]\n"
   ],
   "metadata": {
    "collapsed": false,
    "pycharm": {
     "name": "#%%\n"
    }
   }
  },
  {
   "cell_type": "markdown",
   "source": [
    "## Set target planning_area"
   ],
   "metadata": {
    "collapsed": false,
    "pycharm": {
     "name": "#%% md\n"
    }
   }
  },
  {
   "cell_type": "code",
   "execution_count": 18,
   "outputs": [],
   "source": [
    "#Set planning_area we are going to prodict\n",
    "target='geylang'\n",
    "df=df.loc[df['planning_area']==target]"
   ],
   "metadata": {
    "collapsed": false,
    "pycharm": {
     "name": "#%%\n"
    }
   }
  },
  {
   "cell_type": "markdown",
   "source": [
    "## Data processing for modeling"
   ],
   "metadata": {
    "collapsed": false,
    "pycharm": {
     "name": "#%% md\n"
    }
   }
  },
  {
   "cell_type": "code",
   "execution_count": 19,
   "outputs": [
    {
     "data": {
      "text/plain": "            ds    y\n51  2025-01-01  100\n98  2011-01-01    3\n105 1986-01-01   21\n142 1979-01-01    1\n149 2002-01-01    1",
      "text/html": "<div>\n<style scoped>\n    .dataframe tbody tr th:only-of-type {\n        vertical-align: middle;\n    }\n\n    .dataframe tbody tr th {\n        vertical-align: top;\n    }\n\n    .dataframe thead th {\n        text-align: right;\n    }\n</style>\n<table border=\"1\" class=\"dataframe\">\n  <thead>\n    <tr style=\"text-align: right;\">\n      <th></th>\n      <th>ds</th>\n      <th>y</th>\n    </tr>\n  </thead>\n  <tbody>\n    <tr>\n      <th>51</th>\n      <td>2025-01-01</td>\n      <td>100</td>\n    </tr>\n    <tr>\n      <th>98</th>\n      <td>2011-01-01</td>\n      <td>3</td>\n    </tr>\n    <tr>\n      <th>105</th>\n      <td>1986-01-01</td>\n      <td>21</td>\n    </tr>\n    <tr>\n      <th>142</th>\n      <td>1979-01-01</td>\n      <td>1</td>\n    </tr>\n    <tr>\n      <th>149</th>\n      <td>2002-01-01</td>\n      <td>1</td>\n    </tr>\n  </tbody>\n</table>\n</div>"
     },
     "execution_count": 19,
     "metadata": {},
     "output_type": "execute_result"
    }
   ],
   "source": [
    "# Count the number of different built_year\n",
    "dict= df.groupby(['built_year'])['listing_id'].count().to_dict()\n",
    "df['count'] = df['built_year'].map(dict)\n",
    "df = df[['built_year','count']].rename(columns = {\"built_year\":\"ds\",\"count\":\"y\"})\n",
    "df.drop_duplicates(inplace=True)\n",
    "df['ds'] = pd.to_datetime(df['ds'],format=\"%Y\") #transfer the built_year into standard time\n",
    "df.head()"
   ],
   "metadata": {
    "collapsed": false,
    "pycharm": {
     "name": "#%%\n"
    }
   }
  },
  {
   "cell_type": "markdown",
   "source": [
    "## Predict\n",
    "Use the Prophet to fit data and make prediction"
   ],
   "metadata": {
    "collapsed": false,
    "pycharm": {
     "name": "#%% md\n"
    }
   }
  },
  {
   "cell_type": "code",
   "execution_count": 20,
   "outputs": [
    {
     "name": "stderr",
     "output_type": "stream",
     "text": [
      "17:36:21 - cmdstanpy - INFO - Chain [1] start processing\n",
      "17:36:22 - cmdstanpy - INFO - Chain [1] done processing\n"
     ]
    },
    {
     "data": {
      "text/plain": "<prophet.forecaster.Prophet at 0x269bfc67f70>"
     },
     "execution_count": 20,
     "metadata": {},
     "output_type": "execute_result"
    }
   ],
   "source": [
    "m = Prophet(changepoint_prior_scale=0.8, interval_width=0.3,yearly_seasonality=12)\n",
    "m.fit(df)"
   ],
   "metadata": {
    "collapsed": false,
    "pycharm": {
     "name": "#%%\n"
    }
   }
  },
  {
   "cell_type": "code",
   "execution_count": null,
   "outputs": [],
   "source": [
    "future = m.make_future_dataframe(periods=8, freq='Y') # range of prediction\n",
    "prediction = m.predict(future)\n",
    "prediction['yhat_lower'].loc[prediction['yhat_lower']<0]=0 # restric the minmum of predict\n",
    "# Format the chart\n",
    "m.plot(prediction)\n",
    "plt.title(target)\n",
    "plt.xlabel(\"Built Year\")\n",
    "plt.ylabel(\"Number for sale\")\n",
    "ax=plt.gca()\n",
    "ax.get_yaxis().get_major_formatter().set_scientific(False)\n",
    "plt.show()"
   ],
   "metadata": {
    "collapsed": false,
    "pycharm": {
     "name": "#%%\n"
    }
   }
  },
  {
   "cell_type": "code",
   "execution_count": null,
   "outputs": [],
   "source": [],
   "metadata": {
    "collapsed": false,
    "pycharm": {
     "name": "#%%\n"
    }
   }
  }
 ],
 "metadata": {
  "kernelspec": {
   "display_name": "Python 3",
   "language": "python",
   "name": "python3"
  },
  "language_info": {
   "codemirror_mode": {
    "name": "ipython",
    "version": 2
   },
   "file_extension": ".py",
   "mimetype": "text/x-python",
   "name": "python",
   "nbconvert_exporter": "python",
   "pygments_lexer": "ipython2",
   "version": "2.7.6"
  }
 },
 "nbformat": 4,
 "nbformat_minor": 0
}