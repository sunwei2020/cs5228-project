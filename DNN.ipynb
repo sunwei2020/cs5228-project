{
 "cells": [
  {
   "cell_type": "code",
   "execution_count": 1,
   "metadata": {},
   "outputs": [],
   "source": [
    "import tensorflow as tf\n",
    "import keras\n",
    "import numpy as np\n",
    "import pandas as pd\n",
    "import matplotlib.pyplot as plt\n",
    "import seaborn as sns\n",
    "from sklearn.model_selection import train_test_split, cross_val_score, KFold\n",
    "from keras.models import Sequential\n",
    "from keras.layers import Dense, Dropout, BatchNormalization\n",
    "from keras.optimizers import Adam, SGD, RMSprop, Adadelta, Adagrad, Adamax, Nadam, Ftrl\n",
    "from keras.callbacks import EarlyStopping, ModelCheckpoint\n",
    "from keras.wrappers.scikit_learn import KerasClassifier, KerasRegressor\n",
    "from math import floor\n",
    "from sklearn.pipeline import Pipeline\n",
    "from sklearn.metrics import make_scorer, accuracy_score\n",
    "from bayes_opt import BayesianOptimization\n",
    "from sklearn.model_selection import StratifiedKFold, GridSearchCV, RandomizedSearchCV\n",
    "from keras.layers import LeakyReLU\n",
    "LeakyReLU = LeakyReLU(alpha=0.1)\n",
    "import warnings\n",
    "warnings.filterwarnings('ignore')\n",
    "pd.set_option('display.max_columns', None)\n"
   ]
  },
  {
   "cell_type": "code",
   "execution_count": 17,
   "metadata": {},
   "outputs": [],
   "source": [
    "# hyperparameters for tuning: #of neurons, activation function, optimizer, learning rate, batch size, epochs, # of layers\n",
    "# #of neurons;10-100 # of epochs:20-100\n",
    "# neurons = [10, 32, 64]\n",
    "# epochs: [1,5,10]\n",
    "# batch_size: [500, 1000, 2000]\n",
    "# activation: ['relu', 'tanh', 'sigmoid']\n",
    "# optimizer: ['SGD', 'RMSprop', 'Adam']\n",
    "# learning_rate: [0.001, 0.01, 0.1]\n",
    "# momentum: [0.1, 0.3, 0.5, 0.7, 0.9]\n",
    "# drop-out: [0.0, 0.2, 0.4]\n"
   ]
  },
  {
   "cell_type": "code",
   "execution_count": 2,
   "metadata": {},
   "outputs": [
    {
     "name": "stdout",
     "output_type": "stream",
     "text": [
      "(19168, 19) (19168,) (6966, 19)\n"
     ]
    }
   ],
   "source": [
    "from EDA import get_train, get_test\n",
    "x_train, y_train = get_train()\n",
    "x_test = get_test()\n",
    "print(x_train.shape, y_train.shape, x_test.shape)\n"
   ]
  },
  {
   "cell_type": "code",
   "execution_count": 3,
   "metadata": {},
   "outputs": [],
   "source": [
    "def define_model(neurons=10, activation='relu', optimizer='SGD', learning_rate=0.1, dropout=0, batch_size=500, epochs=1, init_weights='normal'):\n",
    "    model = Sequential()\n",
    "    model.add(Dense(neurons, input_dim=x_train.shape[1], activation=activation, kernel_initializer=init_weights))\n",
    "    model.add(Dropout(dropout))\n",
    "    model.add(Dense(neurons, activation=activation, kernel_initializer=init_weights))\n",
    "    model.add(Dropout(dropout))\n",
    "    model.add(Dense(neurons, activation=activation, kernel_initializer=init_weights))\n",
    "    model.add(Dropout(dropout))\n",
    "    model.add(Dense(neurons, activation=activation, kernel_initializer=init_weights))\n",
    "    model.add(Dense(neurons, activation=activation, kernel_initializer=init_weights))\n",
    "    model.add(Dense(1))\n",
    "    model.compile(loss='mean_squared_error', optimizer=optimizer)\n",
    "    return model"
   ]
  },
  {
   "cell_type": "code",
   "execution_count": 4,
   "metadata": {},
   "outputs": [],
   "source": [
    "seed = 8\n",
    "np.random.seed(seed)\n",
    "estimator = KerasRegressor(build_fn=define_model, verbose=0)"
   ]
  },
  {
   "cell_type": "code",
   "execution_count": 8,
   "metadata": {},
   "outputs": [],
   "source": [
    "# Set paramaters\n",
    "params_nn ={\n",
    "    'neurons': [10, 32, 64],\n",
    "    'activation': ['relu', 'tanh', 'sigmoid'],\n",
    "    'optimizer': ['SGD', 'RMSprop', 'Adam'],\n",
    "    'learning_rate': [0.001, 0.01, 0.1],\n",
    "    'dropout': [0.0, 0.2, 0.4],\n",
    "    'batch_size': [50, 100, 200],\n",
    "    'epochs': [5,10,15],\n",
    "    'init_weights': ['uniform', 'normal', 'he_uniform'],\n",
    "}\n",
    "# Run Bayesian Optimization\n",
    "\n",
    "grid_result = RandomizedSearchCV(\n",
    "    estimator=estimator, \n",
    "    param_distributions=params_nn, \n",
    "    n_iter=500,\n",
    "    cv=5, \n",
    "    n_jobs=-1,\n",
    "    verbose = 10,\n",
    "    scoring='neg_mean_squared_error'\n",
    ")"
   ]
  },
  {
   "cell_type": "code",
   "execution_count": 9,
   "metadata": {},
   "outputs": [
    {
     "name": "stdout",
     "output_type": "stream",
     "text": [
      "Fitting 5 folds for each of 500 candidates, totalling 2500 fits\n"
     ]
    },
    {
     "data": {
      "text/plain": [
       "RandomizedSearchCV(cv=5,\n",
       "                   estimator=<keras.wrappers.scikit_learn.KerasRegressor object at 0x00000245EE51ADD8>,\n",
       "                   n_iter=500, n_jobs=-1,\n",
       "                   param_distributions={'activation': ['relu', 'tanh',\n",
       "                                                       'sigmoid'],\n",
       "                                        'batch_size': [50, 100, 200],\n",
       "                                        'dropout': [0.0, 0.2, 0.4],\n",
       "                                        'epochs': [5, 10, 15],\n",
       "                                        'init_weights': ['uniform', 'normal',\n",
       "                                                         'he_uniform'],\n",
       "                                        'learning_rate': [0.001, 0.01, 0.1],\n",
       "                                        'neurons': [10, 32, 64],\n",
       "                                        'optimizer': ['SGD', 'RMSprop',\n",
       "                                                      'Adam']},\n",
       "                   scoring='neg_mean_squared_error', verbose=10)"
      ]
     },
     "execution_count": 9,
     "metadata": {},
     "output_type": "execute_result"
    }
   ],
   "source": [
    "grid_result.fit(x_train, y_train)"
   ]
  },
  {
   "cell_type": "code",
   "execution_count": 10,
   "metadata": {},
   "outputs": [],
   "source": [
    "y = grid_result.predict(x_test)"
   ]
  },
  {
   "cell_type": "code",
   "execution_count": 13,
   "metadata": {},
   "outputs": [
    {
     "data": {
      "text/plain": [
       "array([3181051.8, 1076724.5, 1405832.1, ..., 2639210.2, 2138072.8,\n",
       "       2437813. ], dtype=float32)"
      ]
     },
     "execution_count": 13,
     "metadata": {},
     "output_type": "execute_result"
    }
   ],
   "source": [
    "def upload(y):\n",
    "    submission = pd.read_csv('sample_submission.csv')\n",
    "    submission['SalePrice'] = y\n",
    "    submission.to_csv('submission.csv', index=False)\n",
    "    print(submission.head())"
   ]
  },
  {
   "cell_type": "code",
   "execution_count": null,
   "metadata": {},
   "outputs": [],
   "source": []
  }
 ],
 "metadata": {
  "kernelspec": {
   "display_name": "Python 3.7.1 64-bit",
   "language": "python",
   "name": "python3"
  },
  "language_info": {
   "codemirror_mode": {
    "name": "ipython",
    "version": 3
   },
   "file_extension": ".py",
   "mimetype": "text/x-python",
   "name": "python",
   "nbconvert_exporter": "python",
   "pygments_lexer": "ipython3",
   "version": "3.7.1"
  },
  "orig_nbformat": 4,
  "vscode": {
   "interpreter": {
    "hash": "5a98bc0709bb551cb0b40a68bfcb118c11ed773779c4b4ca5eb3852e4a8f5446"
   }
  }
 },
 "nbformat": 4,
 "nbformat_minor": 2
}
