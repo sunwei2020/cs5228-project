{
 "cells": [
  {
   "cell_type": "code",
   "execution_count": 1,
   "metadata": {},
   "outputs": [],
   "source": [
    "%load_ext autoreload\n",
    "%autoreload 2"
   ]
  },
  {
   "cell_type": "code",
   "execution_count": 1,
   "metadata": {},
   "outputs": [],
   "source": [
    "import numpy as np\n",
    "import pandas as pd\n",
    "\n",
    "from sklearn.tree import DecisionTreeRegressor\n",
    "from sklearn.ensemble import RandomForestRegressor, AdaBoostRegressor, ExtraTreesRegressor\n",
    "from sklearn.model_selection import train_test_split, GridSearchCV\n",
    "\n",
    "from EDA import get_test, get_train, save_pred"
   ]
  },
  {
   "cell_type": "code",
   "execution_count": 2,
   "metadata": {},
   "outputs": [],
   "source": [
    "X_train, y_train = get_train()\n",
    "X_test = get_test()\n"
   ]
  },
  {
   "cell_type": "code",
   "execution_count": 3,
   "metadata": {},
   "outputs": [],
   "source": [
    "X_train = X_train.iloc[:,:7]\n",
    "X_test = X_test.iloc[:, :7]"
   ]
  },
  {
   "cell_type": "code",
   "execution_count": 4,
   "metadata": {},
   "outputs": [
    {
     "name": "stdout",
     "output_type": "stream",
     "text": [
      "(19168, 7)\n",
      "(6966, 7)\n",
      "(6966, 7)\n"
     ]
    }
   ],
   "source": [
    "print(X_train.shape)\n",
    "# print(X_train.head(1))\n",
    "print(X_test.shape)\n",
    "print(X_test.dropna().shape)"
   ]
  },
  {
   "cell_type": "code",
   "execution_count": 5,
   "metadata": {},
   "outputs": [],
   "source": [
    "# 训练随机森林解决回归问题\n",
    "def random_forest_result(param_grid):\n",
    "    estimator = RandomForestRegressor()\n",
    "    model = GridSearchCV(estimator, param_grid, scoring=\"neg_root_mean_squared_error\")\n",
    "    # print(estimator.get_params().keys())\n",
    "    model.fit(X_train, y_train)\n",
    "    y_pred = model.predict(X_test)\n",
    "    print('Best RandomForestRegressor regressor: {}'.format(model.best_params_))\n",
    "\n",
    "    return model.predict(X_test)"
   ]
  },
  {
   "cell_type": "code",
   "execution_count": 6,
   "metadata": {},
   "outputs": [],
   "source": [
    "feature_list = list(X_train)"
   ]
  },
  {
   "cell_type": "code",
   "execution_count": 51,
   "metadata": {},
   "outputs": [
    {
     "name": "stdout",
     "output_type": "stream",
     "text": [
      "[1.48464045e-01 1.87621826e-01 3.98036538e-01 1.42841124e-01\n",
      " 1.32119085e-03 1.69591441e-03 7.19697603e-02 1.51698635e-02\n",
      " 1.64140468e-02 1.10313811e-02 4.65767279e-04 1.10611270e-03\n",
      " 6.72216447e-04 1.56104484e-04 6.20550940e-04 1.64348279e-04\n",
      " 5.80193283e-04 4.61938395e-04 1.20707818e-03]\n"
     ]
    }
   ],
   "source": [
    "regressor = RandomForestRegressor()\n",
    "regressor.fit(X_train, y_train)\n",
    "y_pred = regressor.predict(X_test)\n",
    "print(regressor.feature_importances_)"
   ]
  },
  {
   "cell_type": "code",
   "execution_count": 57,
   "metadata": {},
   "outputs": [
    {
     "data": {
      "image/png": "[encoded data removed]",
      "text/plain": [
       "<Figure size 432x288 with 1 Axes>"
      ]
     },
     "metadata": {},
     "output_type": "display_data"
    }
   ],
   "source": [
    "# -*- coding: utf-8 -*-\n",
    "import matplotlib.pyplot as plt\n",
    " \n",
    "num_list = [1.5,0.6,7.8,6]\n",
    "plt.barh(feature_list, regressor.feature_importances_)\n",
    "plt.show()"
   ]
  },
  {
   "cell_type": "code",
   "execution_count": 55,
   "metadata": {},
   "outputs": [
    {
     "data": {
      "image/png": "[encoded data removed]",
      "text/plain": [
       "<Figure size 432x288 with 1 Axes>"
      ]
     },
     "metadata": {},
     "output_type": "display_data"
    }
   ],
   "source": [
    "# -*- coding: utf-8 -*-\n",
    "import matplotlib.pyplot as plt\n",
    " \n",
    "name_list = ['Monday','Tuesday','Friday','Sunday']\n",
    "num_list = [1.5,0.6,7.8,6]\n",
    "plt.barh(range(len(num_list)), num_list,tick_label = name_list)\n",
    "plt.show()"
   ]
  },
  {
   "cell_type": "code",
   "execution_count": 7,
   "metadata": {},
   "outputs": [],
   "source": [
    "# 训练ada_boost解决回归问题\n",
    "def ada_boost_result(params):\n",
    "    base_estimator = DecisionTreeRegressor()\n",
    "    estimator = AdaBoostRegressor(base_estimator=base_estimator)\n",
    "    # print(estimator.get_params().keys())\n",
    "    model = GridSearchCV(estimator, params, scoring=\"neg_root_mean_squared_error\")\n",
    "    model.fit(X_train, y_train)\n",
    "    # Store the parameters of the best model\n",
    "    best_params, best_score = model.best_params_, model.best_score_\n",
    "    # Predict class labels of test data on the model with the best found parameters\n",
    "    y_pred = model.predict(X_test)\n",
    "\n",
    "    print('Best AdaBoost (with DecisionTreeRegressor) regressor params: {}, score:{}'.format(best_params, best_score))\n",
    "    return y_pred, model"
   ]
  },
  {
   "cell_type": "code",
   "execution_count": 7,
   "metadata": {},
   "outputs": [],
   "source": [
    "# 训练ExtraTrees解决回归问题\n",
    "def extra_trees_result(param_grid):\n",
    "    estimator = ExtraTreesRegressor()\n",
    "    model = GridSearchCV(estimator, param_grid, scoring=\"neg_root_mean_squared_error\")\n",
    "    # print(estimator.get_params().keys())\n",
    "    model.fit(X_train, y_train)\n",
    "    y_pred = model.predict(X_test)\n",
    "    print('Best RandomForestRegressor regressor: {}'.format(model.best_params_))\n",
    "\n",
    "    return y_pred, model"
   ]
  },
  {
   "cell_type": "code",
   "execution_count": 46,
   "metadata": {},
   "outputs": [
    {
     "name": "stdout",
     "output_type": "stream",
     "text": [
      "Best RandomForestRegressor regressor: {'max_features': 'auto', 'min_samples_split': 4, 'n_estimators': 70}\n",
      "(6966,) [1163085.         1493982.85714286 1336921.28571429 ... 3548427.27272727\n",
      "  542499.76190476 4531800.        ]\n",
      "-129568805.91036208\n"
     ]
    }
   ],
   "source": [
    "param_grid = {'n_estimators': [50, 65, 70, 75, 80], 'min_samples_split': [2, 4, 5, 7, 9, 15, 25], 'max_features' : [\"auto\", \"sqrt\", \"log2\"]}\n",
    "y_pred, model = extra_trees_result(param_grid=param_grid)\n",
    "print(y_pred.shape, y_pred)\n",
    "print(model.best_score_)\n",
    "out_file = \"data/result_random_forest.csv\"\n",
    "save_pred(y_pred, out_file)\n"
   ]
  },
  {
   "cell_type": "code",
   "execution_count": 8,
   "metadata": {},
   "outputs": [
    {
     "name": "stdout",
     "output_type": "stream",
     "text": [
      "Best AdaBoost (with DecisionTreeRegressor) regressor params: {'base_estimator__max_depth': 10, 'learning_rate': 1.2, 'n_estimators': 50}, score:-130043100.74710019\n"
     ]
    }
   ],
   "source": [
    "# params = {'base_estimator__max_depth':[10, 20, 30, 40, 50], \"n_estimators\": [80, 100, 120, 140], \"learning_rate\": [ 0.05, 0.1, 0.5, 1]}\n",
    "params = {'base_estimator__max_depth':[10, 20, 50, 100, 200], \"n_estimators\": [10, 20, 40, 50, 60, 80], \"learning_rate\": [0.1, 0.25, 0.5, 0.75, 1, 1.2]}\n",
    "y_pred_ada, model = ada_boost_result(params)\n",
    "# print(y_pred_ada.shape, y_pred_ada)\n",
    "# out_file = \"data/result_ada_boost.csv\"\n",
    "# save_pred(y_pred_ada, out_file)"
   ]
  },
  {
   "cell_type": "code",
   "execution_count": 10,
   "metadata": {},
   "outputs": [
    {
     "data": {
      "text/plain": [
       "6443687.570761388"
      ]
     },
     "execution_count": 10,
     "metadata": {},
     "output_type": "execute_result"
    }
   ],
   "source": [
    "y_train_pred = model.predict(X_train)\n",
    "rmse(y_train, y_train_pred)"
   ]
  },
  {
   "cell_type": "code",
   "execution_count": 9,
   "metadata": {},
   "outputs": [],
   "source": [
    "def rmse(y_true, y_pred):\n",
    "    return np.sqrt(np.mean(np.square(y_pred - y_true)))"
   ]
  },
  {
   "cell_type": "code",
   "execution_count": 12,
   "metadata": {},
   "outputs": [
    {
     "data": {
      "text/plain": [
       "(19168,)"
      ]
     },
     "execution_count": 12,
     "metadata": {},
     "output_type": "execute_result"
    }
   ],
   "source": [
    "y_train_pred.shape"
   ]
  },
  {
   "cell_type": "code",
   "execution_count": 13,
   "metadata": {},
   "outputs": [
    {
     "data": {
      "text/plain": [
       "6456327"
      ]
     },
     "execution_count": 13,
     "metadata": {},
     "output_type": "execute_result"
    }
   ],
   "source": [
    "2152109*3"
   ]
  },
  {
   "cell_type": "code",
   "execution_count": 15,
   "metadata": {},
   "outputs": [
    {
     "data": {
      "text/plain": [
       "18613872"
      ]
     },
     "execution_count": 15,
     "metadata": {},
     "output_type": "execute_result"
    }
   ],
   "source": [
    "6204624*3"
   ]
  },
  {
   "cell_type": "code",
   "execution_count": null,
   "metadata": {},
   "outputs": [],
   "source": []
  }
 ],
 "metadata": {
  "kernelspec": {
   "display_name": "Python 3.7.1 64-bit",
   "language": "python",
   "name": "python3"
  },
  "language_info": {
   "codemirror_mode": {
    "name": "ipython",
    "version": 3
   },
   "file_extension": ".py",
   "mimetype": "text/x-python",
   "name": "python",
   "nbconvert_exporter": "python",
   "pygments_lexer": "ipython3",
   "version": "3.7.1"
  },
  "orig_nbformat": 4,
  "vscode": {
   "interpreter": {
    "hash": "5a98bc0709bb551cb0b40a68bfcb118c11ed773779c4b4ca5eb3852e4a8f5446"
   }
  }
 },
 "nbformat": 4,
 "nbformat_minor": 2
}
